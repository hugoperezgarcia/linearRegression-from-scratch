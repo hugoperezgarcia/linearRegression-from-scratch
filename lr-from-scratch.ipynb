{
  "nbformat": 4,
  "nbformat_minor": 0,
  "metadata": {
    "colab": {
      "provenance": []
    },
    "kernelspec": {
      "name": "python3",
      "display_name": "Python 3"
    },
    "language_info": {
      "name": "python"
    }
  },
  "cells": [
    {
      "cell_type": "code",
      "execution_count": 63,
      "metadata": {
        "id": "f9zNZ_OjfsIv"
      },
      "outputs": [],
      "source": [
        "import pandas as pd\n",
        "import matplotlib.pyplot as plt"
      ]
    },
    {
      "cell_type": "code",
      "source": [
        "data = pd.read_csv('penaltis.csv')\n",
        "\n",
        "data.describe()"
      ],
      "metadata": {
        "colab": {
          "base_uri": "https://localhost:8080/",
          "height": 300
        },
        "id": "j2BN-uPHf7zN",
        "outputId": "8a44fa92-c7dd-468a-901b-7255e36cebf0"
      },
      "execution_count": 64,
      "outputs": [
        {
          "output_type": "execute_result",
          "data": {
            "text/plain": [
              "       tiempo_entrenando_horas  penaltis_marcados\n",
              "count               200.000000         200.000000\n",
              "mean                121.001558          49.097048\n",
              "std                  73.722858          30.225168\n",
              "min                   1.380529           0.000000\n",
              "25%                  57.145604          21.431410\n",
              "50%                 123.621563          46.439024\n",
              "75%                 189.214904          76.199529\n",
              "max                 246.721734         100.000000"
            ],
            "text/html": [
              "\n",
              "  <div id=\"df-10c5c5e2-6c4a-497f-a775-317a52734baf\" class=\"colab-df-container\">\n",
              "    <div>\n",
              "<style scoped>\n",
              "    .dataframe tbody tr th:only-of-type {\n",
              "        vertical-align: middle;\n",
              "    }\n",
              "\n",
              "    .dataframe tbody tr th {\n",
              "        vertical-align: top;\n",
              "    }\n",
              "\n",
              "    .dataframe thead th {\n",
              "        text-align: right;\n",
              "    }\n",
              "</style>\n",
              "<table border=\"1\" class=\"dataframe\">\n",
              "  <thead>\n",
              "    <tr style=\"text-align: right;\">\n",
              "      <th></th>\n",
              "      <th>tiempo_entrenando_horas</th>\n",
              "      <th>penaltis_marcados</th>\n",
              "    </tr>\n",
              "  </thead>\n",
              "  <tbody>\n",
              "    <tr>\n",
              "      <th>count</th>\n",
              "      <td>200.000000</td>\n",
              "      <td>200.000000</td>\n",
              "    </tr>\n",
              "    <tr>\n",
              "      <th>mean</th>\n",
              "      <td>121.001558</td>\n",
              "      <td>49.097048</td>\n",
              "    </tr>\n",
              "    <tr>\n",
              "      <th>std</th>\n",
              "      <td>73.722858</td>\n",
              "      <td>30.225168</td>\n",
              "    </tr>\n",
              "    <tr>\n",
              "      <th>min</th>\n",
              "      <td>1.380529</td>\n",
              "      <td>0.000000</td>\n",
              "    </tr>\n",
              "    <tr>\n",
              "      <th>25%</th>\n",
              "      <td>57.145604</td>\n",
              "      <td>21.431410</td>\n",
              "    </tr>\n",
              "    <tr>\n",
              "      <th>50%</th>\n",
              "      <td>123.621563</td>\n",
              "      <td>46.439024</td>\n",
              "    </tr>\n",
              "    <tr>\n",
              "      <th>75%</th>\n",
              "      <td>189.214904</td>\n",
              "      <td>76.199529</td>\n",
              "    </tr>\n",
              "    <tr>\n",
              "      <th>max</th>\n",
              "      <td>246.721734</td>\n",
              "      <td>100.000000</td>\n",
              "    </tr>\n",
              "  </tbody>\n",
              "</table>\n",
              "</div>\n",
              "    <div class=\"colab-df-buttons\">\n",
              "\n",
              "  <div class=\"colab-df-container\">\n",
              "    <button class=\"colab-df-convert\" onclick=\"convertToInteractive('df-10c5c5e2-6c4a-497f-a775-317a52734baf')\"\n",
              "            title=\"Convert this dataframe to an interactive table.\"\n",
              "            style=\"display:none;\">\n",
              "\n",
              "  <svg xmlns=\"http://www.w3.org/2000/svg\" height=\"24px\" viewBox=\"0 -960 960 960\">\n",
              "    <path d=\"M120-120v-720h720v720H120Zm60-500h600v-160H180v160Zm220 220h160v-160H400v160Zm0 220h160v-160H400v160ZM180-400h160v-160H180v160Zm440 0h160v-160H620v160ZM180-180h160v-160H180v160Zm440 0h160v-160H620v160Z\"/>\n",
              "  </svg>\n",
              "    </button>\n",
              "\n",
              "  <style>\n",
              "    .colab-df-container {\n",
              "      display:flex;\n",
              "      gap: 12px;\n",
              "    }\n",
              "\n",
              "    .colab-df-convert {\n",
              "      background-color: #E8F0FE;\n",
              "      border: none;\n",
              "      border-radius: 50%;\n",
              "      cursor: pointer;\n",
              "      display: none;\n",
              "      fill: #1967D2;\n",
              "      height: 32px;\n",
              "      padding: 0 0 0 0;\n",
              "      width: 32px;\n",
              "    }\n",
              "\n",
              "    .colab-df-convert:hover {\n",
              "      background-color: #E2EBFA;\n",
              "      box-shadow: 0px 1px 2px rgba(60, 64, 67, 0.3), 0px 1px 3px 1px rgba(60, 64, 67, 0.15);\n",
              "      fill: #174EA6;\n",
              "    }\n",
              "\n",
              "    .colab-df-buttons div {\n",
              "      margin-bottom: 4px;\n",
              "    }\n",
              "\n",
              "    [theme=dark] .colab-df-convert {\n",
              "      background-color: #3B4455;\n",
              "      fill: #D2E3FC;\n",
              "    }\n",
              "\n",
              "    [theme=dark] .colab-df-convert:hover {\n",
              "      background-color: #434B5C;\n",
              "      box-shadow: 0px 1px 3px 1px rgba(0, 0, 0, 0.15);\n",
              "      filter: drop-shadow(0px 1px 2px rgba(0, 0, 0, 0.3));\n",
              "      fill: #FFFFFF;\n",
              "    }\n",
              "  </style>\n",
              "\n",
              "    <script>\n",
              "      const buttonEl =\n",
              "        document.querySelector('#df-10c5c5e2-6c4a-497f-a775-317a52734baf button.colab-df-convert');\n",
              "      buttonEl.style.display =\n",
              "        google.colab.kernel.accessAllowed ? 'block' : 'none';\n",
              "\n",
              "      async function convertToInteractive(key) {\n",
              "        const element = document.querySelector('#df-10c5c5e2-6c4a-497f-a775-317a52734baf');\n",
              "        const dataTable =\n",
              "          await google.colab.kernel.invokeFunction('convertToInteractive',\n",
              "                                                    [key], {});\n",
              "        if (!dataTable) return;\n",
              "\n",
              "        const docLinkHtml = 'Like what you see? Visit the ' +\n",
              "          '<a target=\"_blank\" href=https://colab.research.google.com/notebooks/data_table.ipynb>data table notebook</a>'\n",
              "          + ' to learn more about interactive tables.';\n",
              "        element.innerHTML = '';\n",
              "        dataTable['output_type'] = 'display_data';\n",
              "        await google.colab.output.renderOutput(dataTable, element);\n",
              "        const docLink = document.createElement('div');\n",
              "        docLink.innerHTML = docLinkHtml;\n",
              "        element.appendChild(docLink);\n",
              "      }\n",
              "    </script>\n",
              "  </div>\n",
              "\n",
              "\n",
              "    <div id=\"df-bb5f884a-297f-467f-9439-e7996f19b71a\">\n",
              "      <button class=\"colab-df-quickchart\" onclick=\"quickchart('df-bb5f884a-297f-467f-9439-e7996f19b71a')\"\n",
              "                title=\"Suggest charts\"\n",
              "                style=\"display:none;\">\n",
              "\n",
              "<svg xmlns=\"http://www.w3.org/2000/svg\" height=\"24px\"viewBox=\"0 0 24 24\"\n",
              "     width=\"24px\">\n",
              "    <g>\n",
              "        <path d=\"M19 3H5c-1.1 0-2 .9-2 2v14c0 1.1.9 2 2 2h14c1.1 0 2-.9 2-2V5c0-1.1-.9-2-2-2zM9 17H7v-7h2v7zm4 0h-2V7h2v10zm4 0h-2v-4h2v4z\"/>\n",
              "    </g>\n",
              "</svg>\n",
              "      </button>\n",
              "\n",
              "<style>\n",
              "  .colab-df-quickchart {\n",
              "      --bg-color: #E8F0FE;\n",
              "      --fill-color: #1967D2;\n",
              "      --hover-bg-color: #E2EBFA;\n",
              "      --hover-fill-color: #174EA6;\n",
              "      --disabled-fill-color: #AAA;\n",
              "      --disabled-bg-color: #DDD;\n",
              "  }\n",
              "\n",
              "  [theme=dark] .colab-df-quickchart {\n",
              "      --bg-color: #3B4455;\n",
              "      --fill-color: #D2E3FC;\n",
              "      --hover-bg-color: #434B5C;\n",
              "      --hover-fill-color: #FFFFFF;\n",
              "      --disabled-bg-color: #3B4455;\n",
              "      --disabled-fill-color: #666;\n",
              "  }\n",
              "\n",
              "  .colab-df-quickchart {\n",
              "    background-color: var(--bg-color);\n",
              "    border: none;\n",
              "    border-radius: 50%;\n",
              "    cursor: pointer;\n",
              "    display: none;\n",
              "    fill: var(--fill-color);\n",
              "    height: 32px;\n",
              "    padding: 0;\n",
              "    width: 32px;\n",
              "  }\n",
              "\n",
              "  .colab-df-quickchart:hover {\n",
              "    background-color: var(--hover-bg-color);\n",
              "    box-shadow: 0 1px 2px rgba(60, 64, 67, 0.3), 0 1px 3px 1px rgba(60, 64, 67, 0.15);\n",
              "    fill: var(--button-hover-fill-color);\n",
              "  }\n",
              "\n",
              "  .colab-df-quickchart-complete:disabled,\n",
              "  .colab-df-quickchart-complete:disabled:hover {\n",
              "    background-color: var(--disabled-bg-color);\n",
              "    fill: var(--disabled-fill-color);\n",
              "    box-shadow: none;\n",
              "  }\n",
              "\n",
              "  .colab-df-spinner {\n",
              "    border: 2px solid var(--fill-color);\n",
              "    border-color: transparent;\n",
              "    border-bottom-color: var(--fill-color);\n",
              "    animation:\n",
              "      spin 1s steps(1) infinite;\n",
              "  }\n",
              "\n",
              "  @keyframes spin {\n",
              "    0% {\n",
              "      border-color: transparent;\n",
              "      border-bottom-color: var(--fill-color);\n",
              "      border-left-color: var(--fill-color);\n",
              "    }\n",
              "    20% {\n",
              "      border-color: transparent;\n",
              "      border-left-color: var(--fill-color);\n",
              "      border-top-color: var(--fill-color);\n",
              "    }\n",
              "    30% {\n",
              "      border-color: transparent;\n",
              "      border-left-color: var(--fill-color);\n",
              "      border-top-color: var(--fill-color);\n",
              "      border-right-color: var(--fill-color);\n",
              "    }\n",
              "    40% {\n",
              "      border-color: transparent;\n",
              "      border-right-color: var(--fill-color);\n",
              "      border-top-color: var(--fill-color);\n",
              "    }\n",
              "    60% {\n",
              "      border-color: transparent;\n",
              "      border-right-color: var(--fill-color);\n",
              "    }\n",
              "    80% {\n",
              "      border-color: transparent;\n",
              "      border-right-color: var(--fill-color);\n",
              "      border-bottom-color: var(--fill-color);\n",
              "    }\n",
              "    90% {\n",
              "      border-color: transparent;\n",
              "      border-bottom-color: var(--fill-color);\n",
              "    }\n",
              "  }\n",
              "</style>\n",
              "\n",
              "      <script>\n",
              "        async function quickchart(key) {\n",
              "          const quickchartButtonEl =\n",
              "            document.querySelector('#' + key + ' button');\n",
              "          quickchartButtonEl.disabled = true;  // To prevent multiple clicks.\n",
              "          quickchartButtonEl.classList.add('colab-df-spinner');\n",
              "          try {\n",
              "            const charts = await google.colab.kernel.invokeFunction(\n",
              "                'suggestCharts', [key], {});\n",
              "          } catch (error) {\n",
              "            console.error('Error during call to suggestCharts:', error);\n",
              "          }\n",
              "          quickchartButtonEl.classList.remove('colab-df-spinner');\n",
              "          quickchartButtonEl.classList.add('colab-df-quickchart-complete');\n",
              "        }\n",
              "        (() => {\n",
              "          let quickchartButtonEl =\n",
              "            document.querySelector('#df-bb5f884a-297f-467f-9439-e7996f19b71a button');\n",
              "          quickchartButtonEl.style.display =\n",
              "            google.colab.kernel.accessAllowed ? 'block' : 'none';\n",
              "        })();\n",
              "      </script>\n",
              "    </div>\n",
              "\n",
              "    </div>\n",
              "  </div>\n"
            ],
            "application/vnd.google.colaboratory.intrinsic+json": {
              "type": "dataframe",
              "summary": "{\n  \"name\": \"data\",\n  \"rows\": 8,\n  \"fields\": [\n    {\n      \"column\": \"tiempo_entrenando_horas\",\n      \"properties\": {\n        \"dtype\": \"number\",\n        \"std\": 82.00823305967953,\n        \"min\": 1.3805292809005998,\n        \"max\": 246.7217341501293,\n        \"num_unique_values\": 8,\n        \"samples\": [\n          121.00155831665403,\n          123.62156330945761,\n          200.0\n        ],\n        \"semantic_type\": \"\",\n        \"description\": \"\"\n      }\n    },\n    {\n      \"column\": \"penaltis_marcados\",\n      \"properties\": {\n        \"dtype\": \"number\",\n        \"std\": 62.68277938911081,\n        \"min\": 0.0,\n        \"max\": 200.0,\n        \"num_unique_values\": 8,\n        \"samples\": [\n          49.097047736019306,\n          46.43902352349522,\n          200.0\n        ],\n        \"semantic_type\": \"\",\n        \"description\": \"\"\n      }\n    }\n  ]\n}"
            }
          },
          "metadata": {},
          "execution_count": 64
        }
      ]
    },
    {
      "cell_type": "markdown",
      "source": [
        "Cargamos un CSV de prueba hecho a mano rapidamente con horas_entrenamiento (0-250) y penaltis_marcados (0-100)."
      ],
      "metadata": {
        "id": "QDodUcLsgwCo"
      }
    },
    {
      "cell_type": "code",
      "source": [
        "plt.scatter(data.tiempo_entrenando_horas, data.penaltis_marcados)\n",
        "plt.xlabel(\"Penaltis marcados\")\n",
        "plt.ylabel(\"Tiempo entrenando (horas)\")\n",
        "plt.show()"
      ],
      "metadata": {
        "colab": {
          "base_uri": "https://localhost:8080/",
          "height": 449
        },
        "id": "bTNGBJ2hgdw-",
        "outputId": "cb4401d8-c4f6-4967-c2f9-1856136dfbe0"
      },
      "execution_count": 85,
      "outputs": [
        {
          "output_type": "display_data",
          "data": {
            "text/plain": [
              "<Figure size 640x480 with 1 Axes>"
            ],
            "image/png": "[encoded data removed]"
          },
          "metadata": {}
        }
      ]
    },
    {
      "cell_type": "markdown",
      "source": [
        "Creamos una función que con descenso de gradiente va ajustando los parámetros m y b de la recta y=mx+b. En cada iteración calcula cuánto error hay y mueve m y b en la dirección que lo reduce, hasta acercarse a los valores más óptimos."
      ],
      "metadata": {
        "id": "QDodUcLajkdfhgTEV"
      }
    },
    {
      "cell_type": "code",
      "source": [
        "def gradient_descent(m_now, b_now, points, lr):\n",
        "  m_gradient = 0\n",
        "  b_gradient = 0\n",
        "\n",
        "  n= len(points)\n",
        "\n",
        "  for i in range(n):\n",
        "    x = points.iloc[i].tiempo_entrenando_horas\n",
        "    y = points.iloc[i].penaltis_marcados\n",
        "\n",
        "    m_gradient += -(2/n) * x * (y - (m_now * x + b_now))\n",
        "    b_gradient += -(2/n) * (y - (m_now * x + b_now))\n",
        "\n",
        "  m = m_now - m_gradient * lr\n",
        "  b = b_now - b_gradient * lr\n",
        "  return m,b"
      ],
      "metadata": {
        "id": "a_yjYTJwgp6-"
      },
      "execution_count": 86,
      "outputs": []
    },
    {
      "cell_type": "markdown",
      "source": [
        "Hiperparametros"
      ],
      "metadata": {
        "id": "JeRGgqhUiHAV"
      }
    },
    {
      "cell_type": "code",
      "source": [
        "m = 0\n",
        "b = 0\n",
        "lr = 0.001\n",
        "epochs = 250"
      ],
      "metadata": {
        "id": "xcYyG9ediJrc"
      },
      "execution_count": 91,
      "outputs": []
    },
    {
      "cell_type": "code",
      "source": [
        "for i in range(epochs):\n",
        "  if i % 50 == 0:\n",
        "    print(f'Epoch: {i}')\n",
        "  m,b = gradient_descent(m,b,data, lr)\n",
        "print(f'Entrenado {m,b}')"
      ],
      "metadata": {
        "colab": {
          "base_uri": "https://localhost:8080/"
        },
        "id": "_nHJ6W4AiQak",
        "outputId": "ee45ccf9-7b6a-4b8e-fe2d-52e658559961"
      },
      "execution_count": 92,
      "outputs": [
        {
          "output_type": "stream",
          "name": "stdout",
          "text": [
            "Epoch: 0\n",
            "Epoch: 50\n",
            "Epoch: 100\n",
            "Epoch: 150\n"
          ]
        },
        {
          "output_type": "stream",
          "name": "stderr",
          "text": [
            "/tmp/ipython-input-3278490950.py:11: RuntimeWarning: overflow encountered in scalar add\n",
            "  m_gradient += -(2/n) * x * (y - (m_now * x + b_now))\n",
            "/tmp/ipython-input-3278490950.py:14: RuntimeWarning: invalid value encountered in scalar subtract\n",
            "  m = m_now - m_gradient * lr\n"
          ]
        },
        {
          "output_type": "stream",
          "name": "stdout",
          "text": [
            "Epoch: 200\n",
            "Entrenado (np.float64(nan), np.float64(nan))\n"
          ]
        }
      ]
    },
    {
      "cell_type": "markdown",
      "source": [
        "Al tener:\n",
        "*   x = 0-250\n",
        "*   y = 0-100\n",
        "\n",
        "al multiplicar por 0.001, los datos se vuelven demasiado grandes y causa un \"overflow\", es decir, el salto de m y b es tan grnde que los parametros se disparan.\n",
        "\n",
        "Por lo que vamos a normalizar el dataset para que los datos queden entre 0 y 1."
      ],
      "metadata": {
        "id": "LKRq6qipuBnu"
      }
    },
    {
      "cell_type": "code",
      "source": [
        "data_norm = data.copy()\n",
        "data_norm[\"tiempo_entrenando_horas\"] = data[\"tiempo_entrenando_horas\"] / data[\"tiempo_entrenando_horas\"].max()\n",
        "data_norm[\"penaltis_marcados\"] = data[\"penaltis_marcados\"] / data[\"penaltis_marcados\"].max()"
      ],
      "metadata": {
        "id": "yq8oYVIIu_o9"
      },
      "execution_count": 89,
      "outputs": []
    },
    {
      "cell_type": "code",
      "source": [
        "m = 0\n",
        "b = 0\n",
        "lr = 0.001\n",
        "epochs = 2000"
      ],
      "metadata": {
        "id": "Pp9OXKB4wZz4"
      },
      "execution_count": 106,
      "outputs": []
    },
    {
      "cell_type": "code",
      "source": [
        "for i in range(epochs):\n",
        "  if i % 100 == 0:\n",
        "    print(f'Epoch: {i}')\n",
        "  m,b = gradient_descent(m,b,data_norm, lr)\n",
        "print(f'Entrenado {m,b}')"
      ],
      "metadata": {
        "colab": {
          "base_uri": "https://localhost:8080/"
        },
        "id": "VtDYX8w2vCMR",
        "outputId": "b658e846-7930-4c6a-df88-f2843d94e887"
      },
      "execution_count": 107,
      "outputs": [
        {
          "output_type": "stream",
          "name": "stdout",
          "text": [
            "Epoch: 0\n",
            "Epoch: 100\n",
            "Epoch: 200\n",
            "Epoch: 300\n",
            "Epoch: 400\n",
            "Epoch: 500\n",
            "Epoch: 600\n",
            "Epoch: 700\n",
            "Epoch: 800\n",
            "Epoch: 900\n",
            "Epoch: 1000\n",
            "Epoch: 1100\n",
            "Epoch: 1200\n",
            "Epoch: 1300\n",
            "Epoch: 1400\n",
            "Epoch: 1500\n",
            "Epoch: 1600\n",
            "Epoch: 1700\n",
            "Epoch: 1800\n",
            "Epoch: 1900\n",
            "Entrenado (np.float64(0.39919030483561146), np.float64(0.31275008047049635))\n"
          ]
        }
      ]
    },
    {
      "cell_type": "code",
      "source": [
        "plt.scatter(data_norm[\"tiempo_entrenando_horas\"], data_norm[\"penaltis_marcados\"], color=\"blue\")\n",
        "x_line = [i/100 for i in range(0, 101)]\n",
        "y_line = [m * x + b for x in x_line]\n",
        "plt.plot(x_line, y_line, color=\"red\")\n",
        "plt.xlabel(\"Tiempo entrenando\")\n",
        "plt.ylabel(\"Penaltis marcados\")\n",
        "plt.show()"
      ],
      "metadata": {
        "colab": {
          "base_uri": "https://localhost:8080/",
          "height": 449
        },
        "id": "4f75I0oYjUgj",
        "outputId": "f8995273-3587-4fcc-c8a7-fa2eee9e67c1"
      },
      "execution_count": 108,
      "outputs": [
        {
          "output_type": "display_data",
          "data": {
            "text/plain": [
              "<Figure size 640x480 with 1 Axes>"
            ],
            "image/png": "[encoded data removed]"
          },
          "metadata": {}
        }
      ]
    },
    {
      "cell_type": "markdown",
      "source": [
        "Vemos que no esta bien del todo, vamos a ver si ajustando hiperparametros podemos mjorarlo."
      ],
      "metadata": {
        "id": "ph23jI9bxcTm"
      }
    },
    {
      "cell_type": "code",
      "source": [
        "lr = 0.01\n",
        "epochs = 2000\n",
        "\n",
        "for i in range(epochs):\n",
        "  if i % 100 == 0:\n",
        "    print(f'Epoch: {i}')\n",
        "  m,b = gradient_descent(m,b,data_norm, lr)\n",
        "print(f'Entrenado {m,b}')"
      ],
      "metadata": {
        "colab": {
          "base_uri": "https://localhost:8080/"
        },
        "id": "8kRnBgfTuvx-",
        "outputId": "1f134179-8095-4044-d81f-867b80033491"
      },
      "execution_count": 110,
      "outputs": [
        {
          "output_type": "stream",
          "name": "stdout",
          "text": [
            "Epoch: 0\n",
            "Epoch: 100\n",
            "Epoch: 200\n",
            "Epoch: 300\n",
            "Epoch: 400\n",
            "Epoch: 500\n",
            "Epoch: 600\n",
            "Epoch: 700\n",
            "Epoch: 800\n",
            "Epoch: 900\n",
            "Epoch: 1000\n",
            "Epoch: 1100\n",
            "Epoch: 1200\n",
            "Epoch: 1300\n",
            "Epoch: 1400\n",
            "Epoch: 1500\n",
            "Epoch: 1600\n",
            "Epoch: 1700\n",
            "Epoch: 1800\n",
            "Epoch: 1900\n",
            "Entrenado (np.float64(0.9287737964909888), np.float64(0.036705209315138536))\n"
          ]
        }
      ]
    },
    {
      "cell_type": "code",
      "source": [
        "plt.scatter(data_norm[\"tiempo_entrenando_horas\"], data_norm[\"penaltis_marcados\"], color=\"blue\")\n",
        "x_line = [i/100 for i in range(0, 101)]\n",
        "y_line = [m * x + b for x in x_line]\n",
        "plt.plot(x_line, y_line, color=\"red\")\n",
        "plt.xlabel(\"Tiempo entrenando\")\n",
        "plt.ylabel(\"Penaltis marcados\")\n",
        "plt.show()"
      ],
      "metadata": {
        "colab": {
          "base_uri": "https://localhost:8080/",
          "height": 449
        },
        "id": "3IlnwtMkxxzy",
        "outputId": "a4fddcfc-1688-4846-ef13-f54288ede878"
      },
      "execution_count": 111,
      "outputs": [
        {
          "output_type": "display_data",
          "data": {
            "text/plain": [
              "<Figure size 640x480 with 1 Axes>"
            ],
            "image/png": "[encoded data removed]"
          },
          "metadata": {}
        }
      ]
    },
    {
      "cell_type": "markdown",
      "source": [
        "Esto ya tiene mucha mejor pinta"
      ],
      "metadata": {
        "id": "7VVGNkMSx5PL"
      }
    }
  ]
}
